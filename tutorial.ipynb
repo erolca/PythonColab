{
  "nbformat": 4,
  "nbformat_minor": 0,
  "metadata": {
    "colab": {
      "name": "Untitled0.ipynb",
      "provenance": [],
      "authorship_tag": "ABX9TyNZ6Wwjd/lT3yUr9b2hgSBr",
      "include_colab_link": true
    },
    "kernelspec": {
      "name": "python3",
      "display_name": "Python 3"
    }
  },
  "cells": [
    {
      "cell_type": "markdown",
      "metadata": {
        "id": "view-in-github",
        "colab_type": "text"
      },
      "source": [
        "<a href=\"https://colab.research.google.com/github/erolca/PythonColab/blob/main/tutorial.ipynb\" target=\"_parent\"><img src=\"https://colab.research.google.com/assets/colab-badge.svg\" alt=\"Open In Colab\"/></a>"
      ]
    },
    {
      "cell_type": "code",
      "metadata": {
        "colab": {
          "base_uri": "https://localhost:8080/"
        },
        "id": "xareXdfW-eHn",
        "outputId": "6d1712e2-e506-4748-a2ea-280ace2c1388"
      },
      "source": [
        "print(\"merhaba dunya\")"
      ],
      "execution_count": 1,
      "outputs": [
        {
          "output_type": "stream",
          "text": [
            "merhaba dunya\n"
          ],
          "name": "stdout"
        }
      ]
    },
    {
      "cell_type": "code",
      "metadata": {
        "colab": {
          "base_uri": "https://localhost:8080/"
        },
        "id": "pg08udD6ARfP",
        "outputId": "6265a0c6-d8dc-4bf3-a460-fd8cced93055"
      },
      "source": [
        "class HarfSayacı:\r\n",
        "    def __init__(self):\r\n",
        "        self.sesli_harfler = 'aeıioöuü'\r\n",
        "        self.sessiz_harfler = 'bcçdfgğhjklmnprsştvyz'\r\n",
        "        self.sayaç_sesli = 0\r\n",
        "        self.sayaç_sessiz = 0\r\n",
        "\r\n",
        "    def kelime_sor(self):\r\n",
        "        return input('Bir kelime girin: ')\r\n",
        "\r\n",
        "    def seslidir(self, harf):\r\n",
        "        return harf in self.sesli_harfler\r\n",
        "\r\n",
        "    def sessizdir(self, harf):\r\n",
        "        return harf in self.sessiz_harfler\r\n",
        "\r\n",
        "    def artır(self):\r\n",
        "        for harf in self.kelime:\r\n",
        "            if self.seslidir(harf):\r\n",
        "                self.sayaç_sesli += 1\r\n",
        "            if self.sessizdir(harf):\r\n",
        "                self.sayaç_sessiz += 1\r\n",
        "        return (self.sayaç_sesli, self.sayaç_sessiz)\r\n",
        "\r\n",
        "    def ekrana_bas(self):\r\n",
        "        sesli, sessiz = self.artır()\r\n",
        "        mesaj = \"{} kelimesinde {} sesli {} sessiz harf var.\"\r\n",
        "        print(mesaj.format(self.kelime, sesli, sessiz))\r\n",
        "\r\n",
        "    def çalıştır(self):\r\n",
        "        self.kelime = self.kelime_sor()\r\n",
        "        self.ekrana_bas()\r\n",
        "\r\n",
        "if __name__ == '__main__':\r\n",
        "    sayaç = HarfSayacı()\r\n",
        "    sayaç.çalıştır()"
      ],
      "execution_count": 2,
      "outputs": [
        {
          "output_type": "stream",
          "text": [
            "Bir kelime girin: erol\n",
            "erol kelimesinde 2 sesli 2 sessiz harf var.\n"
          ],
          "name": "stdout"
        }
      ]
    },
    {
      "cell_type": "code",
      "metadata": {
        "colab": {
          "base_uri": "https://localhost:8080/"
        },
        "id": "tZhSG7EpLIbR",
        "outputId": "b9e13eaa-892b-4fd5-fe43-9f7abce1a2b5"
      },
      "source": [
        "li = [\"a\", \"mpilgrim\", \"foo\", \"b\", \"c\", \"b\", \"d\", \"d\"]  #lists\r\n",
        "\r\n",
        "print ([elem for elem in li if len(elem) > 1]            )\r\n",
        "\r\n",
        "print ([elem for elem in li if elem != \"b\"])               \r\n",
        "\r\n",
        "print ([elem for elem in li if li.count(elem) == 1]  )"
      ],
      "execution_count": 5,
      "outputs": [
        {
          "output_type": "stream",
          "text": [
            "['mpilgrim', 'foo']\n",
            "['a', 'mpilgrim', 'foo', 'c', 'd', 'd']\n",
            "['a', 'mpilgrim', 'foo', 'c']\n"
          ],
          "name": "stdout"
        }
      ]
    }
  ]
}